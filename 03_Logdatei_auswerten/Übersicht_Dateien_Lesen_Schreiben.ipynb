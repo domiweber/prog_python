{
 "cells": [
  {
   "attachments": {},
   "cell_type": "markdown",
   "metadata": {},
   "source": [
    "### Textdateien lesen und schreiben\n",
    "Mit der Funktion \n",
    "    `open(<dateipfad>,<modus>)   `\n",
    "können Dateien zum Lesen und Schreiben geöffnet werden. Sie liefert ein stream-Objekt zurück aus dem man lesen bzw. in den man schreiben kann.  Der Modus gibt an, was genau mit der Datei gemacht werden soll. Die meist genutzten Modi für Textdateien sind:  \n",
    "\n",
    "`r  `   lesen  \n",
    "`w  `   schreiben (die Datei wird neu erstellt bzw. eine vorhandene Datei wird überschieben)  \n",
    "`a  `  schreiben/anhängen (die Datei wird neu erstellt bzw. eine vorhandene Datei wird am Ende ergänzt)    \n",
    "\n",
    "  \n",
    "Am Ende der Nutzung muss die Datei mit der Funktion `close(<stream-Objekt>)` wieder geschlossen werden.\n",
    "  \n",
    "  #### Beispiele:\n"
   ]
  },
  {
   "attachments": {},
   "cell_type": "markdown",
   "metadata": {},
   "source": [
    "### Dateipfad zusammenstellen\n",
    "Die Datei soll im gleichen Verzeichnis wie das Programm liegen. Wenn Sie einen speziellen Pfad verwenden möchten, verwenden Sie am besten einen passenden Dialog für die Auswahl (siehe Tkinter).\n",
    "\n",
    "`Wichtig!` In Jupyter Notebook müssen Sie beim Einlesen der Datei nicht gesamten Pfad angeben. Es reicht, wenn Sie den Pfad relativ zum Speicherort des Notebooks angeben. Die Systemvariable `__file__` ist nur gesetzt, wenn Sie ein Python-Programm ausführen. Sie enthält dann den Pfad zur Programmdatei.\n",
    "\n"
   ]
  },
  {
   "cell_type": "code",
   "execution_count": 2,
   "metadata": {},
   "outputs": [
    {
     "name": "stdout",
     "output_type": "stream",
     "text": [
      "textdatei.txt\n"
     ]
    }
   ],
   "source": [
    "import os\n",
    "\n",
    "# Wenn der Code in einem normalen Python-Programm ausgeführt wird.\n",
    "if (\"__file__\" in vars()):\n",
    "    #Aktuellen Pfad herausfinden (\"__file__\") zeigt auf die Programmdatei incl. Pfad\n",
    "    path, filename = os.path.split(os.path.abspath(__file__))\n",
    "    #  Jetzt einen neuen Dateinamen damit verbinden\n",
    "    dateiname = os.path.join(path,\"textdatei1.txt\")\n",
    "    print(dateiname)\n",
    "# Beim Jupyter-Notebook ist der Dateiname ausreichend\n",
    "else:\n",
    "    dateiname = (\"textdatei.txt\")\n",
    "    print (dateiname)"
   ]
  },
  {
   "attachments": {},
   "cell_type": "markdown",
   "metadata": {},
   "source": [
    "#### Beispiel:\n",
    "Datei mit Zahlen von 0 bis 9 und  den dazugehörigen Quadratzahlen zeilenweise speichern. Die beiden Zahlen werden durch einen Strichpunkt getrennt."
   ]
  },
  {
   "cell_type": "code",
   "execution_count": null,
   "metadata": {},
   "outputs": [],
   "source": [
    "try:\n",
    "    datei = open(dateiname,\"w\")\n",
    "    for i in range(10):\n",
    "        j = i**2\n",
    "        datei.write(f\"{i};{j}\\n\")\n",
    "    datei.close()\n",
    "except Exception as e: \n",
    "    print (f\"Fehler beim Schreiben der Datei {dateiname}\")\n",
    "    #Fehlermeldung vom Interpreter ausgeben\n",
    "    print(e)\n",
    "    if datei:\n",
    "        datei.close()\n",
    "\n"
   ]
  },
  {
   "cell_type": "code",
   "execution_count": null,
   "metadata": {},
   "outputs": [],
   "source": [
    "# Beschreibung zum Dateiobjekt anzeigen\n",
    "help(datei)"
   ]
  },
  {
   "cell_type": "code",
   "execution_count": null,
   "metadata": {},
   "outputs": [],
   "source": [
    "# wasw passiert eigentlich bei einem Fehler?\n",
    "try:\n",
    "    datei = open(dateiname,\"w\")\n",
    "    for i in range(10):\n",
    "        j = i**2\n",
    "        # Fehler _: Division durch Null\n",
    "        datei.write(f\"{i/0};{j}\\n\")\n",
    "    datei.close()\n",
    "except Exception as e: \n",
    "    print (f\"Fehler beim Schreiben der Datei {dateiname}\")\n",
    "    #Fehlermeldung vom Interpreter ausgeben\n",
    "    print(e)\n",
    "    # Jetzt ist die Datei noch offen und muss geschlossen werden\n",
    "    if datei:\n",
    "        print(\"Datei schließen\")\n",
    "        datei.close()\n",
    "\n"
   ]
  },
  {
   "cell_type": "markdown",
   "metadata": {},
   "source": [
    "#### Die Datei wieder einlesen"
   ]
  },
  {
   "cell_type": "code",
   "execution_count": null,
   "metadata": {},
   "outputs": [],
   "source": [
    "try:\n",
    "    datei = open(dateiname,\"r\") \n",
    "    for zeile in datei:\n",
    "        # jetzt die Zeile in Spalten teilen. Das kennen Sie ja schon\n",
    "        spalten = zeile.strip().split(\";\")\n",
    "        print(f\"{spalten[0]:4}|{spalten[1]:8}\")\n",
    "    datei.close()\n",
    "except Exception as e: \n",
    "    print (f\"Fehler beim Lesen der Datei {dateiname}\")\n",
    "    print(e)\n",
    "    if datei:\n",
    "        datei.close()"
   ]
  },
  {
   "attachments": {},
   "cell_type": "markdown",
   "metadata": {},
   "source": [
    "### Dateien lesen und schreiben mit `with`\n",
    "\n",
    "Meist ist es einfach die Lese- und Schreiboperationen in einem Block zusammenzufassen. Dann kann man mit Hilfe des with-Befehls dafür sorgen, dass die Datei nur für den Anweisungsblock geöffnet bleibt und automatisch geschlossen wird.\n"
   ]
  },
  {
   "cell_type": "code",
   "execution_count": null,
   "metadata": {},
   "outputs": [],
   "source": [
    "try:\n",
    "    with  open(dateiname,\"w\") as datei:\n",
    "        for i in range(10):\n",
    "            j = i**2\n",
    "            datei.write(f\"{i};{j}\\n\")\n",
    "except Exception as e: \n",
    "    print (f\"Fehler beim Schreiben der Datei {dateiname}\")\n",
    "    print(e)"
   ]
  },
  {
   "cell_type": "code",
   "execution_count": null,
   "metadata": {},
   "outputs": [],
   "source": [
    "\n",
    "try:\n",
    "    with  open(dateiname,\"r\") as datei:\n",
    "    \n",
    "        for zeile in datei:\n",
    "            spalten = zeile.strip().split(\";\")\n",
    "            print(f\"{spalten[0]:4}|{spalten[1]:8}\")\n",
    "except Exception as e: \n",
    "    print (f\"Fehler beim Lesen der Datei {dateiname}\")    \n",
    "    print(e)   "
   ]
  },
  {
   "cell_type": "markdown",
   "metadata": {},
   "source": [
    "### Eine ganze Textdatei auf einmal lesen"
   ]
  },
  {
   "cell_type": "code",
   "execution_count": null,
   "metadata": {},
   "outputs": [],
   "source": [
    "\n",
    "try:\n",
    "    with  open(dateiname,\"r\") as datei:\n",
    "        text = datei.read()\n",
    "        print(\"text = \\n\"+text)\n",
    "except: \n",
    "    print (f\"Fehler beim Lesen der Datei {dateiname}\")       "
   ]
  },
  {
   "cell_type": "code",
   "execution_count": null,
   "metadata": {},
   "outputs": [],
   "source": [
    "# oder eine Liste aus allen Zeilen lesen\n",
    "\n",
    "try:\n",
    "    with  open(dateiname,\"r\") as datei:\n",
    "        zeilen  = datei.readlines()\n",
    "        print(zeilen)\n",
    "except: \n",
    "    print (f\"Fehler beim Lesen der Datei {dateiname}\")       "
   ]
  }
 ],
 "metadata": {
  "kernelspec": {
   "display_name": "Python 3",
   "language": "python",
   "name": "python3"
  },
  "language_info": {
   "codemirror_mode": {
    "name": "ipython",
    "version": 3
   },
   "file_extension": ".py",
   "mimetype": "text/x-python",
   "name": "python",
   "nbconvert_exporter": "python",
   "pygments_lexer": "ipython3",
   "version": "3.8.1"
  },
  "orig_nbformat": 4,
  "vscode": {
   "interpreter": {
    "hash": "7587d2252e11da24705b9972c956e1e4ea40af46a37b68178db119e5e54996ba"
   }
  }
 },
 "nbformat": 4,
 "nbformat_minor": 2
}
