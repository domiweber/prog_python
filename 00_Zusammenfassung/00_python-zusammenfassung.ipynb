{
 "cells": [
  {
   "cell_type": "markdown",
   "metadata": {},
   "source": [
    "## 1. Schleifen"
   ]
  },
  {
   "cell_type": "markdown",
   "metadata": {},
   "source": [
    "### 1.1 for-Schleife (Zählerschleife)"
   ]
  },
  {
   "cell_type": "code",
   "execution_count": null,
   "metadata": {},
   "outputs": [],
   "source": [
    "#range(Startwert, Endwert, Schrittweite)\n",
    "\n",
    "for i in range(0,10,1):\n",
    "    print(\"Schleifen-Durchlauf\", i)"
   ]
  },
  {
   "cell_type": "markdown",
   "metadata": {},
   "source": [
    "###  1.2 Schleife mit Liste"
   ]
  },
  {
   "cell_type": "code",
   "execution_count": null,
   "metadata": {},
   "outputs": [],
   "source": [
    "myList = [\"eins\", \"zwei\", \"drei\"]\n",
    "\n",
    "for i in myList:\n",
    "    print(i)"
   ]
  },
  {
   "cell_type": "markdown",
   "metadata": {},
   "source": [
    "1.3 while-Schleife (Standard)"
   ]
  },
  {
   "cell_type": "code",
   "execution_count": null,
   "metadata": {},
   "outputs": [],
   "source": [
    "count = 0\n",
    "\n",
    "while count < 5:\n",
    "    print(count)\n",
    "    count = count +1"
   ]
  },
  {
   "cell_type": "markdown",
   "metadata": {},
   "source": [
    "1.4 while-True-Schleife (Fußgesteuert)"
   ]
  },
  {
   "cell_type": "code",
   "execution_count": null,
   "metadata": {},
   "outputs": [],
   "source": [
    "while True:\n",
    "    user_input = input(\"Geben Sie 'q' ein, um die Schleife zu beenden: \")\n",
    "    if user_input == 'q':\n",
    "        break  # Beendet die Schleife, wenn 'q' eingegeben wird\n",
    "    else:\n",
    "        print(user_input, \"Schleife läuft weiter...\")"
   ]
  },
  {
   "cell_type": "markdown",
   "metadata": {},
   "source": [
    "1.5 Erweiterte Schleifensteuerung"
   ]
  },
  {
   "cell_type": "code",
   "execution_count": null,
   "metadata": {},
   "outputs": [],
   "source": [
    "for i in range(10):\n",
    "    if i == 3:\n",
    "        continue  # Überspringe die 3\n",
    "    if i == 7:\n",
    "        break  # Beende die Schleife vorzeitig\n",
    "    print(i)"
   ]
  },
  {
   "cell_type": "markdown",
   "metadata": {},
   "source": [
    "2. Listen"
   ]
  },
  {
   "cell_type": "markdown",
   "metadata": {},
   "source": [
    "2.1 Listenfunktionen"
   ]
  },
  {
   "cell_type": "code",
   "execution_count": null,
   "metadata": {},
   "outputs": [],
   "source": [
    "myList = [\"eins\", \"zwei\", \"drei\", \"vier\", \"fünf\",\"hallo\"]\n",
    "\n",
    "#an Liste anfügen\n",
    "myList.append(\"sechs\")\n",
    "\n",
    "#an bestimmte Position einfügen\n",
    "myList.insert(2,\"2\")\n",
    "\n",
    "#aus Liste entfernen\n",
    "myList.remove(\"drei\") #Entfernt das erste Vorkommen eines Elements.\n",
    "myList.pop(4) #Entfernt und gibt ein Element an einer bestimmten Position zurück.\n",
    "del myList[0] #Löscht ein Element an einer bestimmten Position. (-1 für letzter Index in Liste)\n",
    "\n",
    "#Listen Länge\n",
    "len(myList)\n",
    "\n",
    "#Zugriff auf Listenindex\n",
    "element = myList[1]\n",
    "\n",
    "#Liste umdrehen\n",
    "myList.reverse()\n",
    "\n",
    "#Liste nach abc sortieren\n",
    "myList.sort()\n",
    "\n",
    "#Jedes 2. Ausgeben\n",
    "print(myList[::2])\n",
    "\n",
    "#Listen kombinieren\n",
    "neueListe = myList + [4,5,6]\n",
    "\n",
    "#Liste an Liste anhängen\n",
    "myList.extend([\"mirabelle\",\"pflaume\"])\n",
    "\n",
    "#Das größte Element einer Liste bestimmen\n",
    "maxwert = max(myList)\n",
    "\n",
    "#Das kleinste Element einer Liste bestimmen\n",
    "minwert = min(myList)\n",
    "\n",
    "#Prüfen ob ein Element in der Liste ist\n",
    "if (\"hallo\" in myList):\n",
    "    print (\"Es steht Hallo in der Liste\")\n",
    "\n",
    "#Püfen ob ein Element nicht in einer Liste ist\n",
    "if (\"hallo\" not in myList):\n",
    "    print (\"Da ist leider kein hallo\")\n",
    "\n",
    "\n",
    "\n",
    "print(myList)"
   ]
  },
  {
   "cell_type": "markdown",
   "metadata": {},
   "source": [
    "3. Tupel\n",
    "\n",
    "Tupel können nicht verändert werden.\n",
    "\n",
    "Ein Tupel wird durch Zuweisung definiert. Der Datentyp ist tupel. Tupel werden mit runde Klammen\n",
    "umschlossen.\n",
    "\n",
    "Funktionen wie auf Index zugreifen oder Schleifen ist wie bei Listen"
   ]
  },
  {
   "cell_type": "code",
   "execution_count": null,
   "metadata": {},
   "outputs": [],
   "source": [
    "tupel1 = (1,2,3,4,5)\n",
    "tupel2 = (\"apfel\",\"birne\",\"kirsche\")\n",
    "\n",
    "#Tupel mit nur einem Element\n",
    "tupel3 = (\"apfel\",)\n",
    "\n",
    "#Tupel in Liste umwandeln\n",
    "tupelList = list(tupel1)"
   ]
  },
  {
   "cell_type": "markdown",
   "metadata": {},
   "source": [
    "4. Python Dictionary\n",
    "\n",
    "Ein Dictionary ist eine Sammlung von key-value (Schlüssel-Wert) Paaren. Die Keys sind normalerweise\n",
    "Strings oder int-Zahlen. Die Values können wiederum alle Datentypen enthalten."
   ]
  },
  {
   "cell_type": "markdown",
   "metadata": {},
   "source": [
    "4.1 Dictionary allgemein"
   ]
  },
  {
   "cell_type": "code",
   "execution_count": 33,
   "metadata": {},
   "outputs": [
    {
     "name": "stdout",
     "output_type": "stream",
     "text": [
      "Meier\n",
      "Meier\n",
      "{'name': 'Meier', 'vorname': 'Ilse', 'strasse': 'Bergsonstraße'}\n",
      "Meier\n"
     ]
    }
   ],
   "source": [
    "dict1 = {'name':'Meier','vorname':'Ilse'}\n",
    "print (dict1['name'])\n",
    "\n",
    "\n",
    "#Auf existierenden Key prüfen\n",
    "if \"name\" in dict1:\n",
    "    print (dict1['name'])\n",
    "\n",
    "#Element hinzufügen\n",
    "dict1['strasse'] = 'Bergsonstraße'\n",
    "print(dict1)\n"
   ]
  },
  {
   "cell_type": "markdown",
   "metadata": {},
   "source": [
    "4.2 Dictionary Funktionen"
   ]
  },
  {
   "cell_type": "code",
   "execution_count": 34,
   "metadata": {},
   "outputs": [
    {
     "ename": "SyntaxError",
     "evalue": "invalid syntax (1599550909.py, line 24)",
     "output_type": "error",
     "traceback": [
      "\u001b[1;36m  Cell \u001b[1;32mIn[34], line 24\u001b[1;36m\u001b[0m\n\u001b[1;33m    dict1.get(key[,default])\u001b[0m\n\u001b[1;37m                  ^\u001b[0m\n\u001b[1;31mSyntaxError\u001b[0m\u001b[1;31m:\u001b[0m invalid syntax\n"
     ]
    }
   ],
   "source": [
    "#Gibt die Anzahl der Dictionary-Einträge (Items) zurück.\n",
    "len(d)\n",
    "\n",
    "#äGibt den Wert des Eintrags mit dem übergebenen key zurück.\n",
    "dict1[key]\n",
    "\n",
    "#Setzt den Wert für den Schlüssel key auf value\n",
    "dict1[key] = value\n",
    "\n",
    "#Ergibt True wenn es den key gibt, sonst False.\n",
    "key in dict1\n",
    "\n",
    "#Ergibt False wenn es den key gibt, sonst True.\n",
    "key not in dict1\n",
    "\n",
    "#Löscht alle Elemente aus dem Dictionary.\n",
    "dict1.clear()\n",
    "\n",
    "#Erzeugt eine Kopie des Dictionarys.\n",
    "dict1.copy()\n",
    "\n",
    "#Gibt den Wert von key zurück, wenn key existiert ansonsten, default. Wenn default nicht angegeben ist, wird\n",
    "#None zurück gegeben, so dass die Methode nie einen Fehler erzeugt.\n",
    "dict1.get(key[,default])\n",
    "\n",
    "#Erzeugt einen View auf alle Keys (List). Die Liste verändert sich mit einer Änderung im Dictionary\n",
    "dict1.keys()\n",
    "\n",
    "#Wenn key im dictionary vorhanden ist, wird das Element gelöscht und der key zurück gegeben. Ansonsten\n",
    "#wird der Wert default zurück gegeben. Fenn default nicht definiert wird wird ein Fehler erzeugt.\n",
    "dict1.pop(key[,default])\n",
    "\n",
    "#Das Dictionary wird mit den key/value pairs von other ergänzt. Existierende keys werden überschrieben. Rückgabewert ist None.\n",
    "dict1.update([other])\n",
    "\n",
    "#Gibt einen view aller values zurück (Liste).\n",
    "dict1.values()\n",
    "\n",
    "#Liefert einen view über alle key,value Paare. Kann in einer Schleife verwendet werden. Die Liste verändert\n",
    "#sich mit einer Änderung im Dictionary. Siehe Beispiel unten\n",
    "dict1.items()\n",
    "\n",
    "\n"
   ]
  },
  {
   "cell_type": "markdown",
   "metadata": {},
   "source": [
    "4.3 Schleifen mit Dictionaries"
   ]
  },
  {
   "cell_type": "code",
   "execution_count": null,
   "metadata": {},
   "outputs": [],
   "source": [
    "#Eine Schleife über ein Dictionary liefert die Werte für die Keys im Dictionary: \n",
    "for key in dict1:\n",
    " print(f\"Key = {key} Value= {dict1[key]} \")\n",
    "\n",
    "#Über die Funktion items() können alle key,value – Paare in einer Tupel-Liste abgerufen werden. Darüber\n",
    "#kann man dann wieder mit einer Schleife die Tupel abrufen.\n",
    "\n",
    "print(dict1.items())\n",
    "for key,value in dict1.items():\n",
    " print(f\"Key = {key} Value= {value} \")\n"
   ]
  },
  {
   "cell_type": "markdown",
   "metadata": {},
   "source": [
    "5. Numpy Arrays"
   ]
  },
  {
   "cell_type": "code",
   "execution_count": 2,
   "metadata": {},
   "outputs": [
    {
     "name": "stdout",
     "output_type": "stream",
     "text": [
      "ndim: 2\n",
      "shape: (3, 2)\n",
      "size: 6\n",
      "dtype: int32\n",
      "values:\n",
      "[[1 2]\n",
      " [3 4]\n",
      " [5 6]]\n",
      "\n"
     ]
    }
   ],
   "source": [
    "import numpy as np\n",
    "\n",
    "x = np.array([[1,2],\n",
    "              [3,4],\n",
    "              [5,6]])\n",
    "\n",
    "#Infos über array\n",
    "def array_info(array: np.ndarray) -> None:\n",
    "    print(f\"ndim: {array.ndim}\")\n",
    "    print(f\"shape: {array.shape}\")\n",
    "    print(f\"size: {array.size}\")\n",
    "    print(f\"dtype: {array.dtype}\")\n",
    "    print(f\"values:\\n{array}\\n\")\n",
    "\n",
    "array_info(x)\n"
   ]
  },
  {
   "cell_type": "code",
   "execution_count": 3,
   "metadata": {},
   "outputs": [
    {
     "name": "stdout",
     "output_type": "stream",
     "text": [
      "[[5 6]\n",
      " [3 4]\n",
      " [1 2]]\n"
     ]
    }
   ],
   "source": [
    "#Array umdrehen\n",
    "\n",
    "print(x[::-1])"
   ]
  },
  {
   "cell_type": "code",
   "execution_count": 4,
   "metadata": {},
   "outputs": [
    {
     "name": "stdout",
     "output_type": "stream",
     "text": [
      "[1 2]\n"
     ]
    }
   ],
   "source": [
    "#nur 1. Zeile ausgeben\n",
    "print(x[0, :])"
   ]
  },
  {
   "cell_type": "code",
   "execution_count": null,
   "metadata": {},
   "outputs": [],
   "source": [
    "#nur 1. Spalte ausgeben\n",
    "print(x[:, 0])"
   ]
  },
  {
   "cell_type": "markdown",
   "metadata": {},
   "source": [
    "5.1 Numpy funktionen/berechnen"
   ]
  },
  {
   "cell_type": "code",
   "execution_count": 48,
   "metadata": {},
   "outputs": [
    {
     "name": "stdout",
     "output_type": "stream",
     "text": [
      "[[6 5 6 2 8]\n",
      " [9 1 1 8 6]\n",
      " [9 5 1 7 4]\n",
      " [7 3 3 7 9]\n",
      " [4 9 6 7 9]]\n"
     ]
    },
    {
     "data": {
      "text/plain": [
       "1"
      ]
     },
     "execution_count": 48,
     "metadata": {},
     "output_type": "execute_result"
    }
   ],
   "source": [
    "import numpy as np\n",
    "a = np.array([[1,2],[3,4]])\n",
    "b = np.array([[-1,2],[-3,1]])\n",
    "\n",
    "#Matrix mit 0 gefüllt erstellen\n",
    "np.full(shape=(5,5), fill_value=1)\n",
    "\n",
    "#Matrix transponieren\n",
    "np.transpose(a)\n",
    "\n",
    "#Matrix mit gefüllten 0en erstellen\n",
    "np.zeros(shape=(3,3))\n",
    "\n",
    "#Matrix mit 1er füllen\n",
    "np.ones((5,5))\n",
    "\n",
    "#Einheitsmatrix erstellen\n",
    "np.identity(3)\n",
    "\n",
    "#Matrix diagonale füllen\n",
    "np.diag()\n",
    "\n",
    "#Matrix oberes dreieck (u steht für Upper)\n",
    "np.triu_indices(3,1)\n",
    "\n",
    "#Matrix unteres dreieck (l steht für Lower)\n",
    "np.tril_indices(3,-1)\n",
    "\n",
    "#Zufallszahl  [low Grenze ist dabei, heigh Grenze ist nicht dabei, Matrix größe]\n",
    "print(np.random.randint(low=1, high=10, size=(5,5)))\n",
    "\n",
    "#Zählt alle werte die nicht null sind\n",
    "np.count_nonzero(a)\n",
    "\n",
    "#Zählt alle werte kleiner 0\n",
    "np.count_nonzero(a<0)\n",
    "\n",
    "#Absolutwert (aus - wird +)\n",
    "np.absolute(-1)\n",
    "\n",
    "#Slice\n",
    "N = np.zeros((5,5))\n",
    "\n",
    "#letzer index (4) nicht dabei\n",
    "N[::4,::1] = 1\n",
    "N[::1,::4] = 1\n",
    "\n",
    "#[1:-1,1:-1] = 1 #innen 1er"
   ]
  },
  {
   "cell_type": "markdown",
   "metadata": {},
   "source": [
    "5.2 Matritzen multiplizieren"
   ]
  },
  {
   "cell_type": "code",
   "execution_count": null,
   "metadata": {},
   "outputs": [],
   "source": [
    "out = np.matmul(np.transpose(b), np.transpose(a))\n",
    "\n",
    "#oder \n",
    "out = np.transpose(b) @ np.transpose(a)"
   ]
  },
  {
   "cell_type": "markdown",
   "metadata": {},
   "source": [
    "5.3 Matrix mit Skalar mutliplizieren"
   ]
  },
  {
   "cell_type": "code",
   "execution_count": 28,
   "metadata": {},
   "outputs": [
    {
     "name": "stdout",
     "output_type": "stream",
     "text": [
      "[[2 4]\n",
      " [6 8]]\n",
      "[[2 4]\n",
      " [6 8]]\n"
     ]
    }
   ],
   "source": [
    "out = np.multiply(2, a)\n",
    "\n",
    "#oder\n",
    "out = 2 * a\n",
    "\n",
    "print(out)"
   ]
  },
  {
   "cell_type": "markdown",
   "metadata": {},
   "source": [
    "5.4 Determinante berechnen"
   ]
  },
  {
   "cell_type": "code",
   "execution_count": 23,
   "metadata": {},
   "outputs": [
    {
     "name": "stdout",
     "output_type": "stream",
     "text": [
      "-2.0000000000000004\n"
     ]
    }
   ],
   "source": [
    "import numpy as np\n",
    "a = np.array([[1,2],[3,4]])\n",
    "b = np.array([[-1,2],[-3,1]])\n",
    "\n",
    "print(np.linalg.det(a))"
   ]
  }
 ],
 "metadata": {
  "kernelspec": {
   "display_name": "Python 3",
   "language": "python",
   "name": "python3"
  },
  "language_info": {
   "codemirror_mode": {
    "name": "ipython",
    "version": 3
   },
   "file_extension": ".py",
   "mimetype": "text/x-python",
   "name": "python",
   "nbconvert_exporter": "python",
   "pygments_lexer": "ipython3",
   "version": "3.11.5"
  }
 },
 "nbformat": 4,
 "nbformat_minor": 2
}
